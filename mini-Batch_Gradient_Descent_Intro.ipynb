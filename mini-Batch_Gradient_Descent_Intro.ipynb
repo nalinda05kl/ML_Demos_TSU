{
 "cells": [
  {
   "cell_type": "markdown",
   "metadata": {},
   "source": [
    "# Implimentation of mini-Batch Gradient Descent (BGD) algorithem in TensorFlow\n",
    "- Nalinda Kulathunga (nalinda05kl@gmail.com). <br>\n",
    "Texas Southern University.\n",
    "*****\n",
    "(NOTE: Index for the number of data entries : $i$ ($i_{max} = m$), Index for the number of features: $j$ ($j_{max} = n$))\n",
    "- ####  General (expected) equation with optimized (OP) weights : <br>\n",
    "$y^{i}$ = $\\theta_{0}^{op}x_{0}^{i} + \\theta_{1}^{op}x_{1}^{i} + ....... + \\theta_{n}^{op}x_{n}^{i}$ <br>\n",
    "where, $y^{i}$ is the target for the $i^{th}$ data entry and $x_{j}^{i}$ is the $j^{th}$ feature value of $i^{th}$ data entry.\n",
    "- #### Matrix reperesentation: <br>\n",
    "$\\hat{\\textbf{y}} = \\textbf{X}\\theta$ <br>\n",
    "$\\left[ \\begin{array}{cccc} y^{1} \\\\ y^{2} \\\\ \\vdots \\\\ y^{m}\\end{array} \\right]$ = $\\left[ \\begin{array}{cccc}\n",
    "x_{0}^{1} & x_{1}^{1} & \\ldots & x_{n}^{1} \\\\\n",
    "x_{0}^{2} & x_{1}^{2} & \\ldots & x_{n}^{2} \\\\\n",
    "\\vdots & \\vdots & \\ldots & \\vdots \\\\\n",
    "x_{0}^{m} & x_{1}^{m} & \\ldots & x_{n}^{m} \\\\\n",
    "\\end{array} \\right]$ \n",
    "$\\left[ \\begin{array}{cccc} \n",
    "\\theta_{0} \\\\\n",
    "\\theta_{1} \\\\\n",
    "\\vdots \\\\\n",
    "\\theta_{n} \\\\\n",
    "\\end{array} \\right]$\n",
    "- #### Weights : <br>\n",
    "$\\theta_{j}$, ($\\theta_{0}$ is the bias term)\n",
    "- #### Predicted $i^{th}$ target can be written as :  <br>\n",
    "$y_{pred}^{i}$ = $\\sum_{j=0}^n \\theta_{j} x_{j}^{i}$ <br><br>\n",
    "For all targets, by using the matrix dot product, <br> $\\hat{\\textbf{y}}_{pred}$ = $\\theta^{T} . X$ <br>\n",
    "Using the matrix product, <br> $\\hat{\\textbf{y}}_{pred}$ = $X\\theta$\n",
    "- #### Mean Square Error (MSE) cost function for linear regression model\n",
    "$MSE(X,\\theta)$ = $\\frac{1}{m} \\sum_{i=0}^{m} (\\theta^{T}.x^{(i)} - y^{(i)})^{2}$\n",
    "- #### Partial derivative of the cost function\n",
    "$\\frac{\\partial}{\\partial \\theta_{j}} MSE(X,\\theta)$ = $\\frac{2}{m} \\sum_{i=0}^{m} (\\theta^{T}.x^{(i)} - y^{(i)}) . x_{j}^{(i)}$ <br>\n",
    "In general matrix form, with all gradients: <br>\n",
    "$\\nabla_{\\theta} MSE(\\theta)$ $=$ $\\frac{2}{m}X^{T}(X\\theta - \\textbf{y})$\n",
    "- #### Schematic which shows the BGD approach ($w = \\theta$ and $j(w) = MSE(\\theta)$) [4] :\n",
    "<img src=\"Grad_Des_01.png\",width=600, height=600>\n",
    "- #### Optimization algorithem with a learning rate - $\\eta$\n",
    "$\\theta^{(next)}$ = $\\theta^{(now)} - \\eta \\nabla_{\\theta} MSE(\\theta)$\n",
    "- #### NOTE: In mini-BGD, data and targets (X and y) are fed in to the model as randomly selected mini-batches in each epoch for the training. Since we use small samples of the data set as input, this is a kind of approximation meathod. We try to approximate the gadient of the whole data set using a small sample. It usually come to a faster convergence but not necessarily with a good accuracy.\n",
    "- #### Mini batches [5]:\n",
    "<img src=\"Mini_batches.png\",width=500, height=500>\n",
    "****\n",
    "- #### References:\n",
    "1. Hands on machine learning with Scikit-Learn & TensorFlow, by Aurelien Geron (2017)\n",
    "2. TensorFlow documentation : https://www.tensorflow.org/\n",
    "3. Jypyter Notebook : https://jupyter.org/\n",
    "4. Gradient descent approach figure : rasbt.github.io\n",
    "5. Mini batches figure : https://www.jeremyjordan.me/gradient-descent/\n",
    "***\n"
   ]
  },
  {
   "cell_type": "code",
   "execution_count": 1,
   "metadata": {},
   "outputs": [],
   "source": [
    "import tensorflow as tf\n",
    "import numpy as np"
   ]
  },
  {
   "cell_type": "code",
   "execution_count": 2,
   "metadata": {},
   "outputs": [],
   "source": [
    "# Downloading the dataset:\n",
    "from sklearn.datasets import fetch_california_housing"
   ]
  },
  {
   "cell_type": "code",
   "execution_count": 3,
   "metadata": {},
   "outputs": [],
   "source": [
    "housing = fetch_california_housing()\n",
    "m, n = housing.data.shape"
   ]
  },
  {
   "cell_type": "code",
   "execution_count": 4,
   "metadata": {},
   "outputs": [
    {
     "name": "stdout",
     "output_type": "stream",
     "text": [
      "Feature space shape: (20640, 8)\n",
      "Target space shape: (20640,)\n"
     ]
    }
   ],
   "source": [
    "print \"Feature space shape: {}\".format(housing.data.shape)\n",
    "print \"Target space shape: {}\".format(housing.target.shape)"
   ]
  },
  {
   "cell_type": "markdown",
   "metadata": {},
   "source": [
    "#### Please note that, I haven't divided the data set in to \"training\" and \"testing\". I have only implimented the changes to the BGD algirithm in order to in put mini batches in each trainning epoch using tensorFlow placeholders."
   ]
  },
  {
   "cell_type": "code",
   "execution_count": 5,
   "metadata": {},
   "outputs": [
    {
     "name": "stdout",
     "output_type": "stream",
     "text": [
      "X = [[ 8.32520000e+00  4.10000000e+01  6.98412698e+00  1.02380952e+00\n",
      "   3.22000000e+02  2.55555556e+00  3.78800000e+01 -1.22230000e+02]\n",
      " [ 8.30140000e+00  2.10000000e+01  6.23813708e+00  9.71880492e-01\n",
      "   2.40100000e+03  2.10984183e+00  3.78600000e+01 -1.22220000e+02]\n",
      " [ 7.25740000e+00  5.20000000e+01  8.28813559e+00  1.07344633e+00\n",
      "   4.96000000e+02  2.80225989e+00  3.78500000e+01 -1.22240000e+02]\n",
      " [ 5.64310000e+00  5.20000000e+01  5.81735160e+00  1.07305936e+00\n",
      "   5.58000000e+02  2.54794521e+00  3.78500000e+01 -1.22250000e+02]\n",
      " [ 3.84620000e+00  5.20000000e+01  6.28185328e+00  1.08108108e+00\n",
      "   5.65000000e+02  2.18146718e+00  3.78500000e+01 -1.22250000e+02]]\n"
     ]
    }
   ],
   "source": [
    "print \"X = {}\".format(housing.data[:5])"
   ]
  },
  {
   "cell_type": "code",
   "execution_count": 6,
   "metadata": {},
   "outputs": [
    {
     "name": "stdout",
     "output_type": "stream",
     "text": [
      "y = [4.526 3.585 3.521 3.413 3.422]\n"
     ]
    }
   ],
   "source": [
    "print \"y = {}\".format(housing.target[:5])"
   ]
  },
  {
   "cell_type": "code",
   "execution_count": 7,
   "metadata": {},
   "outputs": [],
   "source": [
    "#Scaling the data and adding the bias term:\n",
    "from sklearn.preprocessing import StandardScaler\n",
    "scaler = StandardScaler()\n",
    "scaler.fit(housing.data)\n",
    "scaled_housing_data = scaler.transform(housing.data)\n",
    "scaled_housing_data_plus_bias = np.c_[np.ones((m, 1)), scaled_housing_data]"
   ]
  },
  {
   "cell_type": "code",
   "execution_count": 8,
   "metadata": {},
   "outputs": [
    {
     "name": "stdout",
     "output_type": "stream",
     "text": [
      "X = [[ 1.          2.34476576  0.98214266  0.62855945 -0.15375759 -0.9744286\n",
      "  -0.04959654  1.05254828 -1.32783522]\n",
      " [ 1.          2.33223796 -0.60701891  0.32704136 -0.26333577  0.86143887\n",
      "  -0.09251223  1.04318455 -1.32284391]\n",
      " [ 1.          1.7826994   1.85618152  1.15562047 -0.04901636 -0.82077735\n",
      "  -0.02584253  1.03850269 -1.33282653]\n",
      " [ 1.          0.93296751  1.85618152  0.15696608 -0.04983292 -0.76602806\n",
      "  -0.0503293   1.03850269 -1.33781784]\n",
      " [ 1.         -0.012881    1.85618152  0.3447108  -0.03290586 -0.75984669\n",
      "  -0.08561576  1.03850269 -1.33781784]]\n"
     ]
    }
   ],
   "source": [
    "print \"X = {}\".format(scaled_housing_data_plus_bias[:5])"
   ]
  },
  {
   "cell_type": "code",
   "execution_count": 9,
   "metadata": {},
   "outputs": [],
   "source": [
    "# The batch size is defined below. After that, the number of batches can be calculated.\n",
    "batch_size = 100\n",
    "n_batches = int(np.ceil(m/batch_size))"
   ]
  },
  {
   "cell_type": "code",
   "execution_count": 10,
   "metadata": {},
   "outputs": [],
   "source": [
    "from random import randint\n",
    "\n",
    "# The function defined below can fetch randomly selected batches one by one to the taining in each epoch.\n",
    "def fetch_batch(batch_size):\n",
    "    dummy = randint(0, n_batches)\n",
    "    X_batch = scaled_housing_data_plus_bias[dummy*batch_size:(dummy + 1)*batch_size]\n",
    "    y_batch_bs = housing.target[dummy*batch_size:(dummy + 1)*batch_size]\n",
    "    y_batch = y_batch_bs.reshape(-1, 1)\n",
    "    return X_batch, y_batch"
   ]
  },
  {
   "cell_type": "code",
   "execution_count": 11,
   "metadata": {},
   "outputs": [],
   "source": [
    "# Number of iterations (epochs) and the learning rate:\n",
    "n_epochs = 10000\n",
    "learning_rate = 0.01"
   ]
  },
  {
   "cell_type": "code",
   "execution_count": 12,
   "metadata": {},
   "outputs": [],
   "source": [
    "# Preparing the tensors for the session ahead:\n",
    "# We use placehodders available in tensorFolw and feed them with mini-batches of data in the training.\n",
    "\n",
    "X = tf.placeholder(tf.float32, shape=(None, n+1), name=\"X\")\n",
    "y = tf.placeholder(tf.float32, shape=(None, 1), name=\"y\")\n",
    "\n",
    "theta       = tf.Variable(tf.random_uniform([n + 1, 1], -1.0, 1.0), name=\"theta\")\n",
    "y_pred      = tf.matmul(X, theta, name=\"predictions\")\n",
    "error       = y_pred - y\n",
    "mse         = tf.reduce_mean(tf.square(error), name=\"mse\")\n",
    "\n",
    "# For the error evaluation on each mini-batch (but using global theta)\n",
    "mse_var     = tf.Variable(tf.zeros([]), name=\"mse_var\")\n",
    "mse_update  = tf.assign(mse_var, mse)\n",
    "\n",
    "gradients   = (float(2))/(float(m)) * (tf.matmul(tf.transpose(X), error))\n",
    "training_op = tf.assign(theta, theta - learning_rate * gradients)\n",
    "\n",
    "## If you like to test, you may also use MomentumOptimizer insted of gradient descent without momentum:\n",
    "## For that just comment the \"gradients\" and \"training_op\" lines above and add the following lines.\n",
    "#optimizer = tf.train.MomentumOptimizer(learning_rate=learning_rate, momentum=0.5)\n",
    "#training_op = optimizer.minimize(mse)"
   ]
  },
  {
   "cell_type": "code",
   "execution_count": 13,
   "metadata": {},
   "outputs": [
    {
     "name": "stdout",
     "output_type": "stream",
     "text": [
      "Feature space : Tensor(\"X:0\", shape=(?, 9), dtype=float32)\n",
      "Target space : Tensor(\"y:0\", shape=(?, 1), dtype=float32)\n",
      "Weights space : <tf.Variable 'theta:0' shape=(9, 1) dtype=float32_ref>\n",
      "Predicted targets : Tensor(\"predictions:0\", shape=(?, 1), dtype=float32)\n",
      "Error metrix : Tensor(\"sub:0\", shape=(?, 1), dtype=float32)\n",
      "Gradients matrix : Tensor(\"mul:0\", shape=(9, 1), dtype=float32)\n"
     ]
    }
   ],
   "source": [
    "# Shapes/names of tensors:\n",
    "print \"Feature space : {}\".format(X)\n",
    "print \"Target space : {}\".format(y)\n",
    "print \"Weights space : {}\".format(theta)\n",
    "print \"Predicted targets : {}\".format(y_pred)\n",
    "print \"Error metrix : {}\".format(error)\n",
    "print \"Gradients matrix : {}\".format(gradients)"
   ]
  },
  {
   "cell_type": "code",
   "execution_count": 14,
   "metadata": {},
   "outputs": [],
   "source": [
    "# For the error evaluation on the whole data set:\n",
    "def error_eval(best_theta_in):\n",
    "    X_AllData = tf.constant(scaled_housing_data_plus_bias, dtype=tf.float32, name=\"X_AllData\")\n",
    "    error_final = tf.matmul(X_AllData, best_theta_in) - housing.target.reshape(-1, 1)\n",
    "    mse_final = tf.reduce_mean(tf.square(error_final), name=\"mse\")\n",
    "    return mse_final.eval()"
   ]
  },
  {
   "cell_type": "code",
   "execution_count": 15,
   "metadata": {},
   "outputs": [],
   "source": [
    "# Initialization of the tensorflow variables:\n",
    "init = tf.global_variables_initializer()"
   ]
  },
  {
   "cell_type": "code",
   "execution_count": 16,
   "metadata": {},
   "outputs": [
    {
     "name": "stdout",
     "output_type": "stream",
     "text": [
      "# \t Epoch (0) ==>\n",
      " MSE(mini batch) 8.28019618988, \t MSE(all data) 6.57006406784.\n",
      "\n",
      "# # # # # # # # # # # # # # # # # # # # # # # # # \t Epoch (500) ==>\n",
      " MSE(mini batch) 0.192980691791, \t MSE(all data) 0.631258666515.\n",
      "\n",
      "# # # # # # # # # # # # # # # # # # # # # # # # # \t Epoch (1000) ==>\n",
      " MSE(mini batch) 0.292459666729, \t MSE(all data) 0.550955474377.\n",
      "\n",
      "# # # # # # # # # # # # # # # # # # # # # # # # # \t Epoch (1500) ==>\n",
      " MSE(mini batch) 0.197238981724, \t MSE(all data) 0.531727969646.\n",
      "\n",
      "# # # # # # # # # # # # # # # # # # # # # # # # # \t Epoch (2000) ==>\n",
      " MSE(mini batch) 0.596978664398, \t MSE(all data) 0.526758849621.\n",
      "\n",
      "# # # # # # # # # # # # # # # # # # # # # # # # # \t Epoch (2500) ==>\n",
      " MSE(mini batch) 0.767757594585, \t MSE(all data) 0.525185585022.\n",
      "\n",
      "# # # # # # # # # # # # # # # # # # # # # # # # # \t Epoch (3000) ==>\n",
      " MSE(mini batch) 0.48306325078, \t MSE(all data) 0.524624884129.\n",
      "\n",
      "# # # # # # # # # # # # # # # # # # # # # # # # # \t Epoch (3500) ==>\n",
      " MSE(mini batch) 0.182113826275, \t MSE(all data) 0.524432897568.\n",
      "\n",
      "# # # # # # # # # # # # # # # # # # # # # # # # # \t Epoch (4000) ==>\n",
      " MSE(mini batch) 0.225827917457, \t MSE(all data) 0.524385988712.\n",
      "\n",
      "# # # # # # # # # # # # # # # # # # # # # # # # # \t Epoch (4500) ==>\n",
      " MSE(mini batch) 0.71188300848, \t MSE(all data) 0.524349272251.\n",
      "\n",
      "# # # # # # # # # # # # # # # # # # # # # # # # # \t Epoch (5000) ==>\n",
      " MSE(mini batch) 0.686436772346, \t MSE(all data) 0.524354279041.\n",
      "\n",
      "# # # # # # # # # # # # # # # # # # # # # # # # # \t Epoch (5500) ==>\n",
      " MSE(mini batch) 0.452299237251, \t MSE(all data) 0.524339139462.\n",
      "\n",
      "# # # # # # # # # # # # # # # # # # # # # # # # # \t Epoch (6000) ==>\n",
      " MSE(mini batch) 0.48349404335, \t MSE(all data) 0.524340331554.\n",
      "\n",
      "# # # # # # # # # # # # # # # # # # # # # # # # # \t Epoch (6500) ==>\n",
      " MSE(mini batch) 0.660649418831, \t MSE(all data) 0.524333357811.\n",
      "\n",
      "# # # # # # # # # # # # # # # # # # # # # # # # # \t Epoch (7000) ==>\n",
      " MSE(mini batch) 0.236604958773, \t MSE(all data) 0.524332225323.\n",
      "\n",
      "# # # # # # # # # # # # # # # # # # # # # # # # # \t Epoch (7500) ==>\n",
      " MSE(mini batch) 0.224579408765, \t MSE(all data) 0.524367570877.\n",
      "\n",
      "# # # # # # # # # # # # # # # # # # # # # # # # # \t Epoch (8000) ==>\n",
      " MSE(mini batch) 0.441325485706, \t MSE(all data) 0.524353802204.\n",
      "\n",
      "# # # # # # # # # # # # # # # # # # # # # # # # # \t Epoch (8500) ==>\n",
      " MSE(mini batch) 0.237745970488, \t MSE(all data) 0.524324476719.\n",
      "\n",
      "# # # # # # # # # # # # # # # # # # # # # # # # # \t Epoch (9000) ==>\n",
      " MSE(mini batch) 0.273473858833, \t MSE(all data) 0.524376213551.\n",
      "\n",
      "# # # # # # # # # # # # # # # # # # # # # # # # # \t Epoch (9500) ==>\n",
      " MSE(mini batch) 0.205003485084, \t MSE(all data) 0.524341642857.\n",
      "\n",
      "# # # # # # # # # # # # # # # # # # # # # # # # # \t Epoch (10000) ==>\n",
      " MSE(mini batch) 0.351901978254, \t MSE(all data) 0.524355947971.\n",
      "\n",
      "\n",
      "\n",
      " Best weights : \n",
      " [[ 2.072124  ]\n",
      " [ 0.8269956 ]\n",
      " [ 0.11706927]\n",
      " [-0.26242465]\n",
      " [ 0.30584973]\n",
      " [-0.00433814]\n",
      " [-0.04017471]\n",
      " [-0.89841163]\n",
      " [-0.8711802 ]]\n"
     ]
    }
   ],
   "source": [
    "n_epochs = n_epochs + 1\n",
    "MiniBatch_mses = []\n",
    "Global_mses = []\n",
    "with tf.Session() as sess:\n",
    "    sess.run(init)\n",
    "    \n",
    "    for epoch in range(n_epochs):\n",
    "        for batch_index in range(n_batches):\n",
    "            X_batch, y_batch = fetch_batch(batch_size)\n",
    "            sess.run(training_op, feed_dict={X:X_batch, y:y_batch})\n",
    "            sess.run(mse_update, feed_dict={X:X_batch, y:y_batch})\n",
    "            \n",
    "        if epoch % 20 == 0:\n",
    "            print (\"#\"),\n",
    "        if epoch % 500 == 0:\n",
    "            best_theta = theta.eval()\n",
    "            mse_from_glob = error_eval(best_theta)\n",
    "            print (\"\\t Epoch ({}) ==>\\n MSE(mini batch) {}, \\t MSE(all data) {}.\\n\".format(epoch, mse_var.eval(), mse_from_glob))\n",
    "            MiniBatch_mses.append(mse_var.eval())\n",
    "            Global_mses.append(mse_from_glob)\n",
    "            \n",
    "    best_theta_final = theta.eval()\n",
    "    print \"\\n\\n Best weights : \\n {}\".format(best_theta_final)"
   ]
  },
  {
   "cell_type": "code",
   "execution_count": 34,
   "metadata": {},
   "outputs": [
    {
     "data": {
      "image/png": "[encoded data removed]",
      "text/plain": [
       "<matplotlib.figure.Figure at 0x11a090850>"
      ]
     },
     "metadata": {},
     "output_type": "display_data"
    }
   ],
   "source": [
    "import matplotlib.pyplot as plt\n",
    "x_list = list(range(21))\n",
    "fig = plt.figure(figsize=(14,7))\n",
    "fig.suptitle('Comparision between MSE from mini-batches and whole batch', fontsize=16)\n",
    "plt.xlabel('Epoches x 500', fontsize=16)\n",
    "plt.ylabel('MSE', fontsize=16)\n",
    "    \n",
    "plt.plot(x_list, MiniBatch_mses, 'r--', x_list, Global_mses, 'b--')\n",
    "plt.gca().legend(('for a mini-batch','for the whole batch'), fontsize=16)\n",
    "plt.show()"
   ]
  },
  {
   "cell_type": "code",
   "execution_count": null,
   "metadata": {},
   "outputs": [],
   "source": []
  }
 ],
 "metadata": {
  "kernelspec": {
   "display_name": "Python 2",
   "language": "python",
   "name": "python2"
  },
  "language_info": {
   "codemirror_mode": {
    "name": "ipython",
    "version": 2
   },
   "file_extension": ".py",
   "mimetype": "text/x-python",
   "name": "python",
   "nbconvert_exporter": "python",
   "pygments_lexer": "ipython2",
   "version": "2.7.13"
  }
 },
 "nbformat": 4,
 "nbformat_minor": 2
}
